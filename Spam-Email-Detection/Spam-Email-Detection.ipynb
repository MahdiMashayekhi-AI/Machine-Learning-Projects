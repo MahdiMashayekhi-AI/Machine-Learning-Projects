{
 "cells": [
  {
   "cell_type": "markdown",
   "id": "ec25f9ad-ee16-4cab-b0a0-c52c329f6689",
   "metadata": {},
   "source": [
    "# Spam Email Detection\n",
    "Spam email is unwanted, unsolicited, and often fraudulent messages that are sent in bulk to a large audience. Spam emails can clog up your inbox, waste your time, and even contain viruses or malicious links. With machine learning, it's possible to train a computer to automatically identify and block spam emails."
   ]
  },
  {
   "cell_type": "code",
   "execution_count": 2,
   "id": "0661385d-3bd0-4466-a460-f719ab4e9dd4",
   "metadata": {},
   "outputs": [],
   "source": [
    "# Import libraries\n",
    "import numpy as np\n",
    "import pandas as pd\n",
    "from sklearn.datasets import fetch_20newsgroups\n",
    "from sklearn.feature_extraction.text import CountVectorizer\n",
    "from sklearn.naive_bayes import MultinomialNB\n",
    "from sklearn.metrics import accuracy_score, confusion_matrix\n",
    "from sklearn.model_selection import train_test_split"
   ]
  },
  {
   "cell_type": "code",
   "execution_count": 3,
   "id": "f899b538-7a1a-4b25-8a21-6a85f883026e",
   "metadata": {},
   "outputs": [],
   "source": [
    "# Load the spam email dataset\n",
    "data = fetch_20newsgroups(subset='all', categories=['alt.atheism', 'comp.graphics', 'sci.space'])"
   ]
  },
  {
   "cell_type": "code",
   "execution_count": 7,
   "id": "5b53a561-499d-4212-98f4-740aeeb3712a",
   "metadata": {},
   "outputs": [],
   "source": [
    "# Create the feature matrix and target vector\n",
    "x = data.data\n",
    "y = data.target"
   ]
  },
  {
   "cell_type": "code",
   "execution_count": 8,
   "id": "060e897d-5820-4cc0-ac20-27937114b71e",
   "metadata": {},
   "outputs": [],
   "source": [
    "# Split the dataset to taining and testting sets\n",
    "x_train, x_test, y_train, y_test = train_test_split(x, y, test_size=0.3, random_state=42)"
   ]
  },
  {
   "cell_type": "code",
   "execution_count": 12,
   "id": "d24609c7-f6bc-4fd5-8e74-3f9289b68726",
   "metadata": {},
   "outputs": [],
   "source": [
    "# Convert the text data into numerical features using CountVectorizer\n",
    "cv = CountVectorizer()\n",
    "x_train_cv = cv.fit_transform(x_train)\n",
    "x_test_cv = cv.transform(x_test)"
   ]
  },
  {
   "cell_type": "code",
   "execution_count": 14,
   "id": "0a0e84fe-88e4-47ea-88e1-6dcdc6cab8ba",
   "metadata": {},
   "outputs": [
    {
     "data": {
      "text/plain": [
       "MultinomialNB()"
      ]
     },
     "execution_count": 14,
     "metadata": {},
     "output_type": "execute_result"
    }
   ],
   "source": [
    "# Train the naive bayes classifire\n",
    "model = MultinomialNB()\n",
    "model.fit(x_train_cv, y_train)"
   ]
  },
  {
   "cell_type": "code",
   "execution_count": 15,
   "id": "76a56ef8-9e8b-46d5-8fc6-5f890b334271",
   "metadata": {},
   "outputs": [],
   "source": [
    "# Predict the model with test data\n",
    "y_pred = model.predict(x_test_cv)"
   ]
  },
  {
   "cell_type": "code",
   "execution_count": 17,
   "id": "1ae73d8b-3c5f-4842-955b-ae9fdedcfa61",
   "metadata": {},
   "outputs": [],
   "source": [
    "# calculate the accuracy score and confusion matrix\n",
    "acc_score = accuracy_score(y_test, y_pred)\n",
    "cm = confusion_matrix(y_test, y_pred)"
   ]
  },
  {
   "cell_type": "code",
   "execution_count": 18,
   "id": "cd290642-3c94-4de8-8379-7ba3597f013c",
   "metadata": {},
   "outputs": [
    {
     "name": "stdout",
     "output_type": "stream",
     "text": [
      "Accuracy Score: 0.9758454106280193\n",
      "Confusion Matrix:\n",
      " [[259   1   2]\n",
      " [  1 270   5]\n",
      " [  1  10 279]]\n"
     ]
    }
   ],
   "source": [
    "print('Accuracy Score:', acc_score)\n",
    "print('Confusion Matrix:\\n', cm)"
   ]
  }
 ],
 "metadata": {
  "kernelspec": {
   "display_name": "Python 3 (ipykernel)",
   "language": "python",
   "name": "python3"
  },
  "language_info": {
   "codemirror_mode": {
    "name": "ipython",
    "version": 3
   },
   "file_extension": ".py",
   "mimetype": "text/x-python",
   "name": "python",
   "nbconvert_exporter": "python",
   "pygments_lexer": "ipython3",
   "version": "3.9.13"
  }
 },
 "nbformat": 4,
 "nbformat_minor": 5
}
