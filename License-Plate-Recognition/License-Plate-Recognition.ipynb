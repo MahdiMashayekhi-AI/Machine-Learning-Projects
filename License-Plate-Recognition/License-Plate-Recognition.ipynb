{
 "cells": [
  {
   "cell_type": "markdown",
   "id": "9acd4859",
   "metadata": {},
   "source": [
    "# Car license plate\n",
    "Car license plate recognition (LPR) is a common application of machine learning that involves detecting and reading license plates on vehicles."
   ]
  },
  {
   "cell_type": "markdown",
   "id": "11d355ff",
   "metadata": {},
   "source": [
    "## Step by step\n",
    "1. Gather and preprocess\n",
    "2. Label the data\n",
    "3. Split data into training and validation sets\n",
    "4. Choose a machine learning model\n",
    "5. Train the model\n",
    "6. Evaluate the model\n",
    "7. Predict on new data\n",
    "8. Deploy the model"
   ]
  },
  {
   "cell_type": "code",
   "execution_count": null,
   "id": "fb2c325d",
   "metadata": {},
   "outputs": [],
   "source": [
    "# Import libraries\n",
    "import os\n",
    "import cv2 as cv\n",
    "import numpy as np\n",
    "import pandas as pd\n",
    "from sklearn.model_selection import train_test_split\n",
    "from tensorflow.keras.model import Sequential\n",
    "from tensorflow.keras.layers import Dense, Conv2D, MaxPooling2D, Flatten"
   ]
  },
  {
   "cell_type": "code",
   "execution_count": null,
   "id": "9477ce93",
   "metadata": {},
   "outputs": [],
   "source": [
    "# Step 1, 2: Gather and preprocess data and label data\n",
    "image_dir = 'license_plate_images'\n",
    "images = []\n",
    "lables = []\n",
    "\n",
    "for filename in os.listdir(image_dir):\n",
    "    img = cv.imread(os.path.join(image_dir, filename), cv.IMREAD_GRAYSCALE)\n",
    "    img = cv.resize(img, (128,64))\n",
    "    images.append(img)\n",
    "    label = filename.split('_')[0]\n",
    "    labels.append(label)\n",
    "    \n",
    "images = np.array(images).reshape(-1, 64, 128, 1)\n",
    "lables = pd.get_dummies(lables)"
   ]
  },
  {
   "cell_type": "code",
   "execution_count": null,
   "id": "9043242c",
   "metadata": {},
   "outputs": [],
   "source": [
    "# Step 3: Split data into training and validation sets\n",
    "x_train, x_val, y_train, y_val = train_test_split(images, lables, test_size=0.3, random_state=1234)"
   ]
  },
  {
   "cell_type": "code",
   "execution_count": null,
   "id": "0ad5968b",
   "metadata": {},
   "outputs": [],
   "source": [
    "# Step 4: Choose a machine learning model\n",
    "model = Sequential()\n",
    "model.add(Conv2D(32, (3,3), activation='relu', input_shape=(64, 128, 1)))\n",
    "model.add(MaxPolling2D((2, 2)))\n",
    "model.add(Conv2D(64, (3, 3), activation='relu'))\n",
    "model.add(MaxPooling2D((2, 2)))\n",
    "model.add(Conv2D(128, (3, 3), activation='relue'))\n",
    "mdoel.add(MaxPooling2D((2, 2)))\n",
    "model.add(Flatten())\n",
    "model.add(Dense(128, activation='relu'))\n",
    "model.add(Dense(36, activation='softmax'))"
   ]
  },
  {
   "cell_type": "code",
   "execution_count": null,
   "id": "d4819db2",
   "metadata": {},
   "outputs": [],
   "source": [
    "# Step 5: Train the model\n",
    "model.compile(optimizer='adam', loss='categorical_crossentropy', metrics=['accuracy'])\n",
    "model.fit(x_train, y_train, epoches=10, validation_data=(x_val, y_val))"
   ]
  },
  {
   "cell_type": "code",
   "execution_count": null,
   "id": "760c9065",
   "metadata": {},
   "outputs": [],
   "source": [
    "# Step 6: Evaluate the model\n",
    "test_images = []\n",
    "test_lables = []\n",
    "\n",
    "for filename in os.listdir('test_image'):\n",
    "    img = cv.imread(os.path.join('test_images', filename), cv.IMREAD_GRAYSCALE)\n",
    "    img = cv.resize(img, (128, 46))\n",
    "    test_images.append(img)\n",
    "    label = filename.split('_')[0]\n",
    "    test_lables.append(label)\n",
    "    \n",
    "test_images = np.array(test_images).reshape(-1, 64, 128, 1)\n",
    "test_labels = pd.get_dummies(test_labels)\n",
    "\n",
    "test_loss, test_acc = model.evaluate(test_images, test_labels)\n",
    "print('Test accuracy:', test_acc)"
   ]
  },
  {
   "cell_type": "code",
   "execution_count": null,
   "id": "16f75ec2",
   "metadata": {},
   "outputs": [],
   "source": [
    "# Step 7: Predict on new data\n",
    "new_image = cv.imread('new_license_plate.png', cv.IMREAD_GRAYSCALE)\n",
    "new_image = cv.resize(new_image, (128, 64))\n",
    "new_image = np.array(new_image)\n",
    "prediction = model.predict(new_image)\n",
    "predicted_label = labels.columns[np.argmax[prediction]]\n",
    "print('Prediction label: {}'.format(predicted_label))"
   ]
  }
 ],
 "metadata": {
  "kernelspec": {
   "display_name": "Python 3 (ipykernel)",
   "language": "python",
   "name": "python3"
  },
  "language_info": {
   "codemirror_mode": {
    "name": "ipython",
    "version": 3
   },
   "file_extension": ".py",
   "mimetype": "text/x-python",
   "name": "python",
   "nbconvert_exporter": "python",
   "pygments_lexer": "ipython3",
   "version": "3.9.13"
  }
 },
 "nbformat": 4,
 "nbformat_minor": 5
}
