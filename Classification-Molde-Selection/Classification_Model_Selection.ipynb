{
  "nbformat": 4,
  "nbformat_minor": 0,
  "metadata": {
    "colab": {
      "provenance": []
    },
    "kernelspec": {
      "name": "python3",
      "display_name": "Python 3"
    },
    "language_info": {
      "name": "python"
    }
  },
  "cells": [
    {
      "cell_type": "markdown",
      "source": [
        "# Classification Model Selection"
      ],
      "metadata": {
        "id": "sbCq5LpskluG"
      }
    },
    {
      "cell_type": "markdown",
      "source": [
        "## Import libraries"
      ],
      "metadata": {
        "id": "nAyaAxyMkyzl"
      }
    },
    {
      "cell_type": "code",
      "source": [
        "import numpy as np\n",
        "import pandas as pd\n",
        "import matplotlib.pyplot as plt"
      ],
      "metadata": {
        "id": "PgFLC8KJk5Um"
      },
      "execution_count": 1,
      "outputs": []
    },
    {
      "cell_type": "markdown",
      "source": [
        "## Import dataset"
      ],
      "metadata": {
        "id": "1Enchy1jk27t"
      }
    },
    {
      "cell_type": "code",
      "source": [
        "from sklearn.datasets import load_iris\n",
        "iris = load_iris()\n",
        "X = iris.data\n",
        "y = iris.target"
      ],
      "metadata": {
        "id": "R57TwcONk_jH"
      },
      "execution_count": 3,
      "outputs": []
    },
    {
      "cell_type": "markdown",
      "source": [
        "## Spliting dataset into training set and test set"
      ],
      "metadata": {
        "id": "0w64Tt3glXUW"
      }
    },
    {
      "cell_type": "code",
      "source": [
        "from sklearn.model_selection import train_test_split\n",
        "X_train, X_test, y_train, y_test = train_test_split(X, y, test_size=0.2, random_state=0)"
      ],
      "metadata": {
        "id": "CtSN5JKwlctg"
      },
      "execution_count": 5,
      "outputs": []
    },
    {
      "cell_type": "code",
      "source": [
        "X_train.shape"
      ],
      "metadata": {
        "colab": {
          "base_uri": "https://localhost:8080/"
        },
        "id": "8OhhJMeClT4M",
        "outputId": "428e3ca5-373d-4c9b-a9ce-e9eb689bf8d1"
      },
      "execution_count": 7,
      "outputs": [
        {
          "output_type": "execute_result",
          "data": {
            "text/plain": [
              "(120, 4)"
            ]
          },
          "metadata": {},
          "execution_count": 7
        }
      ]
    },
    {
      "cell_type": "code",
      "source": [
        "X_test.shape"
      ],
      "metadata": {
        "colab": {
          "base_uri": "https://localhost:8080/"
        },
        "id": "Sxo6frtPl0aO",
        "outputId": "81dee426-52f3-416e-b459-7d79f3c49068"
      },
      "execution_count": 6,
      "outputs": [
        {
          "output_type": "execute_result",
          "data": {
            "text/plain": [
              "(30, 4)"
            ]
          },
          "metadata": {},
          "execution_count": 6
        }
      ]
    },
    {
      "cell_type": "code",
      "source": [
        "y_train.shape"
      ],
      "metadata": {
        "colab": {
          "base_uri": "https://localhost:8080/"
        },
        "id": "06lwr96Vl3pN",
        "outputId": "44306930-f2ef-4fdd-b0b0-8eaa907fdc08"
      },
      "execution_count": 8,
      "outputs": [
        {
          "output_type": "execute_result",
          "data": {
            "text/plain": [
              "(120,)"
            ]
          },
          "metadata": {},
          "execution_count": 8
        }
      ]
    },
    {
      "cell_type": "code",
      "source": [
        "y_test.shape"
      ],
      "metadata": {
        "colab": {
          "base_uri": "https://localhost:8080/"
        },
        "id": "hIVEzZOOl6kF",
        "outputId": "92b655fb-541b-4a02-8817-1629a9e52c38"
      },
      "execution_count": 9,
      "outputs": [
        {
          "output_type": "execute_result",
          "data": {
            "text/plain": [
              "(30,)"
            ]
          },
          "metadata": {},
          "execution_count": 9
        }
      ]
    },
    {
      "cell_type": "markdown",
      "source": [
        "## Training the model"
      ],
      "metadata": {
        "id": "YHXsqrD5l9wO"
      }
    },
    {
      "cell_type": "code",
      "source": [
        "from sklearn.neighbors import KNeighborsClassifier\n",
        "from sklearn.tree import DecisionTreeClassifier\n",
        "from sklearn.linear_model import LogisticRegression\n",
        "from sklearn.ensemble import RandomForestClassifier\n",
        "from sklearn.ensemble import AdaBoostClassifier\n",
        "from sklearn.ensemble import GradientBoostingClassifier\n",
        "from sklearn.naive_bayes import GaussianNB\n",
        "from sklearn.svm import SVC\n",
        "from sklearn.discriminant_analysis import QuadraticDiscriminantAnalysis\n",
        "from sklearn.discriminant_analysis import LinearDiscriminantAnalysis\n",
        "\n",
        "knn = KNeighborsClassifier(n_neighbors=3)\n",
        "dt = DecisionTreeClassifier(criterion='entropy')\n",
        "lr = LogisticRegression()\n",
        "rf = RandomForestClassifier(n_estimators=50)\n",
        "ab = AdaBoostClassifier()\n",
        "gb = GradientBoostingClassifier()\n",
        "gnb = GaussianNB()\n",
        "svc = SVC(kernel='rbf')\n",
        "qda = QuadraticDiscriminantAnalysis()\n",
        "lda = LinearDiscriminantAnalysis()\n",
        "\n",
        "knn.fit(X_train, y_train)\n",
        "dt.fit(X_train, y_train)\n",
        "lr.fit(X_train, y_train)\n",
        "rf.fit(X_train, y_train)\n",
        "ab.fit(X_train, y_train)\n",
        "gb.fit(X_train, y_train)\n",
        "gnb.fit(X_train, y_train)\n",
        "svc.fit(X_train, y_train)\n",
        "qda.fit(X_train, y_train)\n",
        "lda.fit(X_train, y_train)"
      ],
      "metadata": {
        "id": "CD3u9XZVmZiu"
      },
      "execution_count": null,
      "outputs": []
    },
    {
      "cell_type": "markdown",
      "source": [
        "## Predicting the model"
      ],
      "metadata": {
        "id": "5GONR9rwpyTX"
      }
    },
    {
      "cell_type": "code",
      "source": [
        "y_pred_knn = knn.predict(X_test)\n",
        "y_pred_dt = dt.predict(X_test)\n",
        "y_pred_lr = lr.predict(X_test)\n",
        "y_pred_rf = rf.predict(X_test)\n",
        "y_pred_ab = ab.predict(X_test)\n",
        "y_pred_gb = gb.predict(X_test)\n",
        "y_pred_gnb = gnb.predict(X_test)\n",
        "y_pred_svc = svc.predict(X_test)\n",
        "y_pred_qda = qda.predict(X_test)\n",
        "y_pred_lda = lda.predict(X_test)"
      ],
      "metadata": {
        "id": "ib2-588QpOuv"
      },
      "execution_count": 19,
      "outputs": []
    },
    {
      "cell_type": "code",
      "source": [
        "from sklearn.metrics import confusion_matrix, accuracy_score\n",
        "label = ['KNN', 'DecisionTree', 'LogisticRegression', ' RandomForest',\n",
        "         'AdaBoost', 'GradientBoosting', 'GaussianNB', 'SVC', 'QDA', 'LDA']\n",
        "y_preds = [y_pred_knn, y_pred_dt, y_pred_lr, y_pred_rf, y_pred_ab,\n",
        "           y_pred_gb, y_pred_gnb, y_pred_svc, y_pred_qda, y_pred_lda]\n",
        "\n",
        "for i, y_pred in enumerate(y_preds):\n",
        "  cm = confusion_matrix(y_test, y_pred)\n",
        "  score = accuracy_score(y_test, y_pred)\n",
        "  print(cm)\n",
        "  print(\"'{}' Accuracy Score: {} %\".format(label[i], score*100))"
      ],
      "metadata": {
        "colab": {
          "base_uri": "https://localhost:8080/"
        },
        "id": "F1kb02l7p5Bm",
        "outputId": "3742243a-7ddd-4caf-b18e-02d7278cb169"
      },
      "execution_count": 20,
      "outputs": [
        {
          "output_type": "stream",
          "name": "stdout",
          "text": [
            "[[11  0  0]\n",
            " [ 0 12  1]\n",
            " [ 0  0  6]]\n",
            "'KNN' Accuracy Score: 96.66666666666667 %\n",
            "[[11  0  0]\n",
            " [ 0 13  0]\n",
            " [ 0  0  6]]\n",
            "'DecisionTree' Accuracy Score: 100.0 %\n",
            "[[11  0  0]\n",
            " [ 0 13  0]\n",
            " [ 0  0  6]]\n",
            "'LogisticRegression' Accuracy Score: 100.0 %\n",
            "[[11  0  0]\n",
            " [ 0 13  0]\n",
            " [ 0  1  5]]\n",
            "' RandomForest' Accuracy Score: 96.66666666666667 %\n",
            "[[11  0  0]\n",
            " [ 0 13  0]\n",
            " [ 0  1  5]]\n",
            "'AdaBoost' Accuracy Score: 96.66666666666667 %\n",
            "[[11  0  0]\n",
            " [ 0 13  0]\n",
            " [ 0  0  6]]\n",
            "'GradientBoosting' Accuracy Score: 100.0 %\n",
            "[[11  0  0]\n",
            " [ 0 13  0]\n",
            " [ 0  1  5]]\n",
            "'GaussianNB' Accuracy Score: 96.66666666666667 %\n",
            "[[11  0  0]\n",
            " [ 0 13  0]\n",
            " [ 0  0  6]]\n",
            "'SVC' Accuracy Score: 100.0 %\n",
            "[[11  0  0]\n",
            " [ 0 13  0]\n",
            " [ 0  0  6]]\n",
            "'QDA' Accuracy Score: 100.0 %\n",
            "[[11  0  0]\n",
            " [ 0 13  0]\n",
            " [ 0  0  6]]\n",
            "'LDA' Accuracy Score: 100.0 %\n"
          ]
        }
      ]
    }
  ]
}