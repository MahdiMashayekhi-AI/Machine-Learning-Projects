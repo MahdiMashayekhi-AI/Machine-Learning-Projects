{
  "nbformat": 4,
  "nbformat_minor": 0,
  "metadata": {
    "colab": {
      "provenance": []
    },
    "kernelspec": {
      "name": "python3",
      "display_name": "Python 3"
    },
    "language_info": {
      "name": "python"
    }
  },
  "cells": [
    {
      "cell_type": "markdown",
      "source": [
        "# Stock Exchange Market"
      ],
      "metadata": {
        "id": "EcIAq9DDT3-K"
      }
    },
    {
      "cell_type": "markdown",
      "source": [
        "## Importing the libraries"
      ],
      "metadata": {
        "id": "3JapT31_UCSO"
      }
    },
    {
      "cell_type": "code",
      "execution_count": 1,
      "metadata": {
        "id": "pmOuOgAVH6Nm"
      },
      "outputs": [],
      "source": [
        "import numpy as np\n",
        "import pandas as pd\n",
        "import matplotlib.pyplot as plt"
      ]
    },
    {
      "cell_type": "markdown",
      "source": [
        "## Importing the dataset"
      ],
      "metadata": {
        "id": "ZwDpM4M3UHtR"
      }
    },
    {
      "cell_type": "code",
      "source": [
        "dataset = pd.read_csv('Stock_ABAD1.csv')\n",
        "X = dataset[['<HIGH>', '<LOW>', '<VALUE>', '<VOL>', '<OPEN>', '<LAST>']]\n",
        "y = dataset['<CLOSE>']"
      ],
      "metadata": {
        "id": "8o_oTsBMISm5"
      },
      "execution_count": 3,
      "outputs": []
    },
    {
      "cell_type": "code",
      "source": [
        "X.head()"
      ],
      "metadata": {
        "colab": {
          "base_uri": "https://localhost:8080/",
          "height": 206
        },
        "id": "PuC6wPZ8MXgq",
        "outputId": "4956c6c5-ea38-40f2-fcb8-c437a9797271"
      },
      "execution_count": 4,
      "outputs": [
        {
          "output_type": "execute_result",
          "data": {
            "text/plain": [
              "   <HIGH>   <LOW>     <VALUE>    <VOL>  <OPEN>  <LAST>\n",
              "0  1800.0  1800.0  2592000000  1440000  1800.0  1800.0\n",
              "1  1890.0  1890.0   491626800   260120  1800.0  1890.0\n",
              "2  1984.0  1984.0  2976000000  1500000  1890.0  1984.0\n",
              "3  2083.0  2083.0   560735268   269196  1984.0  2083.0\n",
              "4  2187.0  2060.0  5781634832  2673786  2083.0  2162.0"
            ],
            "text/html": [
              "\n",
              "  <div id=\"df-fbd1ed5a-df36-4644-9afd-b275a5f1f163\">\n",
              "    <div class=\"colab-df-container\">\n",
              "      <div>\n",
              "<style scoped>\n",
              "    .dataframe tbody tr th:only-of-type {\n",
              "        vertical-align: middle;\n",
              "    }\n",
              "\n",
              "    .dataframe tbody tr th {\n",
              "        vertical-align: top;\n",
              "    }\n",
              "\n",
              "    .dataframe thead th {\n",
              "        text-align: right;\n",
              "    }\n",
              "</style>\n",
              "<table border=\"1\" class=\"dataframe\">\n",
              "  <thead>\n",
              "    <tr style=\"text-align: right;\">\n",
              "      <th></th>\n",
              "      <th>&lt;HIGH&gt;</th>\n",
              "      <th>&lt;LOW&gt;</th>\n",
              "      <th>&lt;VALUE&gt;</th>\n",
              "      <th>&lt;VOL&gt;</th>\n",
              "      <th>&lt;OPEN&gt;</th>\n",
              "      <th>&lt;LAST&gt;</th>\n",
              "    </tr>\n",
              "  </thead>\n",
              "  <tbody>\n",
              "    <tr>\n",
              "      <th>0</th>\n",
              "      <td>1800.0</td>\n",
              "      <td>1800.0</td>\n",
              "      <td>2592000000</td>\n",
              "      <td>1440000</td>\n",
              "      <td>1800.0</td>\n",
              "      <td>1800.0</td>\n",
              "    </tr>\n",
              "    <tr>\n",
              "      <th>1</th>\n",
              "      <td>1890.0</td>\n",
              "      <td>1890.0</td>\n",
              "      <td>491626800</td>\n",
              "      <td>260120</td>\n",
              "      <td>1800.0</td>\n",
              "      <td>1890.0</td>\n",
              "    </tr>\n",
              "    <tr>\n",
              "      <th>2</th>\n",
              "      <td>1984.0</td>\n",
              "      <td>1984.0</td>\n",
              "      <td>2976000000</td>\n",
              "      <td>1500000</td>\n",
              "      <td>1890.0</td>\n",
              "      <td>1984.0</td>\n",
              "    </tr>\n",
              "    <tr>\n",
              "      <th>3</th>\n",
              "      <td>2083.0</td>\n",
              "      <td>2083.0</td>\n",
              "      <td>560735268</td>\n",
              "      <td>269196</td>\n",
              "      <td>1984.0</td>\n",
              "      <td>2083.0</td>\n",
              "    </tr>\n",
              "    <tr>\n",
              "      <th>4</th>\n",
              "      <td>2187.0</td>\n",
              "      <td>2060.0</td>\n",
              "      <td>5781634832</td>\n",
              "      <td>2673786</td>\n",
              "      <td>2083.0</td>\n",
              "      <td>2162.0</td>\n",
              "    </tr>\n",
              "  </tbody>\n",
              "</table>\n",
              "</div>\n",
              "      <button class=\"colab-df-convert\" onclick=\"convertToInteractive('df-fbd1ed5a-df36-4644-9afd-b275a5f1f163')\"\n",
              "              title=\"Convert this dataframe to an interactive table.\"\n",
              "              style=\"display:none;\">\n",
              "        \n",
              "  <svg xmlns=\"http://www.w3.org/2000/svg\" height=\"24px\"viewBox=\"0 0 24 24\"\n",
              "       width=\"24px\">\n",
              "    <path d=\"M0 0h24v24H0V0z\" fill=\"none\"/>\n",
              "    <path d=\"M18.56 5.44l.94 2.06.94-2.06 2.06-.94-2.06-.94-.94-2.06-.94 2.06-2.06.94zm-11 1L8.5 8.5l.94-2.06 2.06-.94-2.06-.94L8.5 2.5l-.94 2.06-2.06.94zm10 10l.94 2.06.94-2.06 2.06-.94-2.06-.94-.94-2.06-.94 2.06-2.06.94z\"/><path d=\"M17.41 7.96l-1.37-1.37c-.4-.4-.92-.59-1.43-.59-.52 0-1.04.2-1.43.59L10.3 9.45l-7.72 7.72c-.78.78-.78 2.05 0 2.83L4 21.41c.39.39.9.59 1.41.59.51 0 1.02-.2 1.41-.59l7.78-7.78 2.81-2.81c.8-.78.8-2.07 0-2.86zM5.41 20L4 18.59l7.72-7.72 1.47 1.35L5.41 20z\"/>\n",
              "  </svg>\n",
              "      </button>\n",
              "      \n",
              "  <style>\n",
              "    .colab-df-container {\n",
              "      display:flex;\n",
              "      flex-wrap:wrap;\n",
              "      gap: 12px;\n",
              "    }\n",
              "\n",
              "    .colab-df-convert {\n",
              "      background-color: #E8F0FE;\n",
              "      border: none;\n",
              "      border-radius: 50%;\n",
              "      cursor: pointer;\n",
              "      display: none;\n",
              "      fill: #1967D2;\n",
              "      height: 32px;\n",
              "      padding: 0 0 0 0;\n",
              "      width: 32px;\n",
              "    }\n",
              "\n",
              "    .colab-df-convert:hover {\n",
              "      background-color: #E2EBFA;\n",
              "      box-shadow: 0px 1px 2px rgba(60, 64, 67, 0.3), 0px 1px 3px 1px rgba(60, 64, 67, 0.15);\n",
              "      fill: #174EA6;\n",
              "    }\n",
              "\n",
              "    [theme=dark] .colab-df-convert {\n",
              "      background-color: #3B4455;\n",
              "      fill: #D2E3FC;\n",
              "    }\n",
              "\n",
              "    [theme=dark] .colab-df-convert:hover {\n",
              "      background-color: #434B5C;\n",
              "      box-shadow: 0px 1px 3px 1px rgba(0, 0, 0, 0.15);\n",
              "      filter: drop-shadow(0px 1px 2px rgba(0, 0, 0, 0.3));\n",
              "      fill: #FFFFFF;\n",
              "    }\n",
              "  </style>\n",
              "\n",
              "      <script>\n",
              "        const buttonEl =\n",
              "          document.querySelector('#df-fbd1ed5a-df36-4644-9afd-b275a5f1f163 button.colab-df-convert');\n",
              "        buttonEl.style.display =\n",
              "          google.colab.kernel.accessAllowed ? 'block' : 'none';\n",
              "\n",
              "        async function convertToInteractive(key) {\n",
              "          const element = document.querySelector('#df-fbd1ed5a-df36-4644-9afd-b275a5f1f163');\n",
              "          const dataTable =\n",
              "            await google.colab.kernel.invokeFunction('convertToInteractive',\n",
              "                                                     [key], {});\n",
              "          if (!dataTable) return;\n",
              "\n",
              "          const docLinkHtml = 'Like what you see? Visit the ' +\n",
              "            '<a target=\"_blank\" href=https://colab.research.google.com/notebooks/data_table.ipynb>data table notebook</a>'\n",
              "            + ' to learn more about interactive tables.';\n",
              "          element.innerHTML = '';\n",
              "          dataTable['output_type'] = 'display_data';\n",
              "          await google.colab.output.renderOutput(dataTable, element);\n",
              "          const docLink = document.createElement('div');\n",
              "          docLink.innerHTML = docLinkHtml;\n",
              "          element.appendChild(docLink);\n",
              "        }\n",
              "      </script>\n",
              "    </div>\n",
              "  </div>\n",
              "  "
            ]
          },
          "metadata": {},
          "execution_count": 4
        }
      ]
    },
    {
      "cell_type": "code",
      "source": [
        "y.head()"
      ],
      "metadata": {
        "colab": {
          "base_uri": "https://localhost:8080/"
        },
        "id": "rQhNfnwYMZSo",
        "outputId": "b9ace4f4-28c8-4a24-8b31-25bdabe84863"
      },
      "execution_count": 5,
      "outputs": [
        {
          "output_type": "execute_result",
          "data": {
            "text/plain": [
              "0    1800.0\n",
              "1    1890.0\n",
              "2    1984.0\n",
              "3    2083.0\n",
              "4    2162.0\n",
              "Name: <CLOSE>, dtype: float64"
            ]
          },
          "metadata": {},
          "execution_count": 5
        }
      ]
    },
    {
      "cell_type": "markdown",
      "source": [
        "## Spliting the dataset into training set and test set"
      ],
      "metadata": {
        "id": "q-fGytKFUOMY"
      }
    },
    {
      "cell_type": "code",
      "source": [
        "from sklearn.model_selection import train_test_split\n",
        "X_train, X_test, y_train, y_test = train_test_split(X, y, test_size=0.2, random_state=24)"
      ],
      "metadata": {
        "id": "262IUk6nPf6Z"
      },
      "execution_count": 6,
      "outputs": []
    },
    {
      "cell_type": "code",
      "source": [
        "X_train.shape"
      ],
      "metadata": {
        "colab": {
          "base_uri": "https://localhost:8080/"
        },
        "id": "OAkX6ukYPyjb",
        "outputId": "68fd84d1-507f-43b2-914f-620e135c31ac"
      },
      "execution_count": 7,
      "outputs": [
        {
          "output_type": "execute_result",
          "data": {
            "text/plain": [
              "(2723, 6)"
            ]
          },
          "metadata": {},
          "execution_count": 7
        }
      ]
    },
    {
      "cell_type": "code",
      "source": [
        "X_test.shape"
      ],
      "metadata": {
        "colab": {
          "base_uri": "https://localhost:8080/"
        },
        "id": "uuPQG2biP2X5",
        "outputId": "2fb466c5-61d0-4c32-e623-b880f8a19631"
      },
      "execution_count": 8,
      "outputs": [
        {
          "output_type": "execute_result",
          "data": {
            "text/plain": [
              "(681, 6)"
            ]
          },
          "metadata": {},
          "execution_count": 8
        }
      ]
    },
    {
      "cell_type": "code",
      "source": [
        "y_train.shape"
      ],
      "metadata": {
        "colab": {
          "base_uri": "https://localhost:8080/"
        },
        "id": "yOofFyFnP40C",
        "outputId": "80782dd0-68bb-47c4-e524-5b29df63b2d5"
      },
      "execution_count": 9,
      "outputs": [
        {
          "output_type": "execute_result",
          "data": {
            "text/plain": [
              "(2723,)"
            ]
          },
          "metadata": {},
          "execution_count": 9
        }
      ]
    },
    {
      "cell_type": "code",
      "source": [
        "y_test.shape"
      ],
      "metadata": {
        "colab": {
          "base_uri": "https://localhost:8080/"
        },
        "id": "Go9ppyuyP66B",
        "outputId": "9121bad0-62a5-48e0-ad39-3b97d05c14d8"
      },
      "execution_count": 10,
      "outputs": [
        {
          "output_type": "execute_result",
          "data": {
            "text/plain": [
              "(681,)"
            ]
          },
          "metadata": {},
          "execution_count": 10
        }
      ]
    },
    {
      "cell_type": "markdown",
      "source": [
        "## Feature Scaling"
      ],
      "metadata": {
        "id": "zqZBC96kV_3T"
      }
    },
    {
      "cell_type": "code",
      "source": [],
      "metadata": {
        "id": "4AQ0b3rUWD8Z"
      },
      "execution_count": null,
      "outputs": []
    },
    {
      "cell_type": "markdown",
      "source": [
        "## Training the model"
      ],
      "metadata": {
        "id": "ebXD9Ap5UVU4"
      }
    },
    {
      "cell_type": "code",
      "source": [
        "from sklearn.linear_model import LinearRegression\n",
        "\n",
        "model = LinearRegression()\n",
        "model.fit(X_train, y_train)"
      ],
      "metadata": {
        "colab": {
          "base_uri": "https://localhost:8080/",
          "height": 74
        },
        "id": "PtYQLPLuQeJC",
        "outputId": "72a04fd1-9d9f-4fcb-836f-a17946f10a1d"
      },
      "execution_count": 11,
      "outputs": [
        {
          "output_type": "execute_result",
          "data": {
            "text/plain": [
              "LinearRegression()"
            ],
            "text/html": [
              "<style>#sk-container-id-1 {color: black;background-color: white;}#sk-container-id-1 pre{padding: 0;}#sk-container-id-1 div.sk-toggleable {background-color: white;}#sk-container-id-1 label.sk-toggleable__label {cursor: pointer;display: block;width: 100%;margin-bottom: 0;padding: 0.3em;box-sizing: border-box;text-align: center;}#sk-container-id-1 label.sk-toggleable__label-arrow:before {content: \"▸\";float: left;margin-right: 0.25em;color: #696969;}#sk-container-id-1 label.sk-toggleable__label-arrow:hover:before {color: black;}#sk-container-id-1 div.sk-estimator:hover label.sk-toggleable__label-arrow:before {color: black;}#sk-container-id-1 div.sk-toggleable__content {max-height: 0;max-width: 0;overflow: hidden;text-align: left;background-color: #f0f8ff;}#sk-container-id-1 div.sk-toggleable__content pre {margin: 0.2em;color: black;border-radius: 0.25em;background-color: #f0f8ff;}#sk-container-id-1 input.sk-toggleable__control:checked~div.sk-toggleable__content {max-height: 200px;max-width: 100%;overflow: auto;}#sk-container-id-1 input.sk-toggleable__control:checked~label.sk-toggleable__label-arrow:before {content: \"▾\";}#sk-container-id-1 div.sk-estimator input.sk-toggleable__control:checked~label.sk-toggleable__label {background-color: #d4ebff;}#sk-container-id-1 div.sk-label input.sk-toggleable__control:checked~label.sk-toggleable__label {background-color: #d4ebff;}#sk-container-id-1 input.sk-hidden--visually {border: 0;clip: rect(1px 1px 1px 1px);clip: rect(1px, 1px, 1px, 1px);height: 1px;margin: -1px;overflow: hidden;padding: 0;position: absolute;width: 1px;}#sk-container-id-1 div.sk-estimator {font-family: monospace;background-color: #f0f8ff;border: 1px dotted black;border-radius: 0.25em;box-sizing: border-box;margin-bottom: 0.5em;}#sk-container-id-1 div.sk-estimator:hover {background-color: #d4ebff;}#sk-container-id-1 div.sk-parallel-item::after {content: \"\";width: 100%;border-bottom: 1px solid gray;flex-grow: 1;}#sk-container-id-1 div.sk-label:hover label.sk-toggleable__label {background-color: #d4ebff;}#sk-container-id-1 div.sk-serial::before {content: \"\";position: absolute;border-left: 1px solid gray;box-sizing: border-box;top: 0;bottom: 0;left: 50%;z-index: 0;}#sk-container-id-1 div.sk-serial {display: flex;flex-direction: column;align-items: center;background-color: white;padding-right: 0.2em;padding-left: 0.2em;position: relative;}#sk-container-id-1 div.sk-item {position: relative;z-index: 1;}#sk-container-id-1 div.sk-parallel {display: flex;align-items: stretch;justify-content: center;background-color: white;position: relative;}#sk-container-id-1 div.sk-item::before, #sk-container-id-1 div.sk-parallel-item::before {content: \"\";position: absolute;border-left: 1px solid gray;box-sizing: border-box;top: 0;bottom: 0;left: 50%;z-index: -1;}#sk-container-id-1 div.sk-parallel-item {display: flex;flex-direction: column;z-index: 1;position: relative;background-color: white;}#sk-container-id-1 div.sk-parallel-item:first-child::after {align-self: flex-end;width: 50%;}#sk-container-id-1 div.sk-parallel-item:last-child::after {align-self: flex-start;width: 50%;}#sk-container-id-1 div.sk-parallel-item:only-child::after {width: 0;}#sk-container-id-1 div.sk-dashed-wrapped {border: 1px dashed gray;margin: 0 0.4em 0.5em 0.4em;box-sizing: border-box;padding-bottom: 0.4em;background-color: white;}#sk-container-id-1 div.sk-label label {font-family: monospace;font-weight: bold;display: inline-block;line-height: 1.2em;}#sk-container-id-1 div.sk-label-container {text-align: center;}#sk-container-id-1 div.sk-container {/* jupyter's `normalize.less` sets `[hidden] { display: none; }` but bootstrap.min.css set `[hidden] { display: none !important; }` so we also need the `!important` here to be able to override the default hidden behavior on the sphinx rendered scikit-learn.org. See: https://github.com/scikit-learn/scikit-learn/issues/21755 */display: inline-block !important;position: relative;}#sk-container-id-1 div.sk-text-repr-fallback {display: none;}</style><div id=\"sk-container-id-1\" class=\"sk-top-container\"><div class=\"sk-text-repr-fallback\"><pre>LinearRegression()</pre><b>In a Jupyter environment, please rerun this cell to show the HTML representation or trust the notebook. <br />On GitHub, the HTML representation is unable to render, please try loading this page with nbviewer.org.</b></div><div class=\"sk-container\" hidden><div class=\"sk-item\"><div class=\"sk-estimator sk-toggleable\"><input class=\"sk-toggleable__control sk-hidden--visually\" id=\"sk-estimator-id-1\" type=\"checkbox\" checked><label for=\"sk-estimator-id-1\" class=\"sk-toggleable__label sk-toggleable__label-arrow\">LinearRegression</label><div class=\"sk-toggleable__content\"><pre>LinearRegression()</pre></div></div></div></div></div>"
            ]
          },
          "metadata": {},
          "execution_count": 11
        }
      ]
    },
    {
      "cell_type": "markdown",
      "source": [
        "## Predicting a new data"
      ],
      "metadata": {
        "id": "XEiszYUdU2wi"
      }
    },
    {
      "cell_type": "code",
      "source": [
        "y_new_pred = model.predict([[2000, 1800, 560735268, 220000, 1700, 2000]])\n",
        "print(\"Result: {}\".format(y_new_pred))"
      ],
      "metadata": {
        "colab": {
          "base_uri": "https://localhost:8080/"
        },
        "id": "UQwnuk13U_WK",
        "outputId": "880e9bc7-a31d-4a8c-e617-38f7a39f700c"
      },
      "execution_count": 21,
      "outputs": [
        {
          "output_type": "stream",
          "name": "stdout",
          "text": [
            "Result: [1836.025204]\n"
          ]
        },
        {
          "output_type": "stream",
          "name": "stderr",
          "text": [
            "/usr/local/lib/python3.10/dist-packages/sklearn/base.py:439: UserWarning: X does not have valid feature names, but LinearRegression was fitted with feature names\n",
            "  warnings.warn(\n"
          ]
        }
      ]
    },
    {
      "cell_type": "markdown",
      "source": [
        "## Predicting the model with test set"
      ],
      "metadata": {
        "id": "yfgaCh_6Ufpy"
      }
    },
    {
      "cell_type": "code",
      "source": [
        "y_pred = model.predict(X_test)\n",
        "print(y_pred)"
      ],
      "metadata": {
        "colab": {
          "base_uri": "https://localhost:8080/"
        },
        "id": "vuL71WXdQuFK",
        "outputId": "d016f97f-f4f0-43a2-f563-162495a9322f"
      },
      "execution_count": 13,
      "outputs": [
        {
          "output_type": "stream",
          "name": "stdout",
          "text": [
            "[ 1988.19179722  1203.87899063  1199.02845515  2003.48684264\n",
            "  2118.30248463  1337.94970372  2588.61415678  1700.5527681\n",
            " 54198.7932887   2323.20470704  2348.41939467  1870.04616012\n",
            " 27910.48052386 29249.86746967  2510.06309281  1588.84667772\n",
            "  1529.84137801  1995.39026316  1744.78723831  2131.04872122\n",
            "  1511.49978452 34195.17505361  1735.71730303  1896.45194766\n",
            "  1946.36134312  4945.84331097  2041.81510613  4132.05381244\n",
            "  1767.43911792  2466.800931    1657.84570268  1701.38676971\n",
            "  2637.16737097 11255.33503399  4578.1585544   3292.69568636\n",
            "  2078.90734388  1738.20330624  1312.18995282  1486.17839458\n",
            "  1735.69064382  1811.33402234  2244.19236591  1784.19023634\n",
            "  4554.60530764  1223.45730914  2402.33670985  1405.27991264\n",
            " 22012.19053079  4870.97620082  1925.40992748  2059.66257808\n",
            "  1836.99755685  2295.59311362 13713.99252348  2545.23170366\n",
            "  5755.54551887  1124.52981119  8827.174558    2195.01677479\n",
            "  3985.07735079  4093.42576163  1002.43807955  1902.73897132\n",
            "  1152.21661747  1131.5117764   3217.08621054  2021.95748013\n",
            "  1429.62107463  2355.97395112  1613.59276102  1178.80715398\n",
            " 23535.33194232  2908.37352532  1806.72459375  1258.57590944\n",
            "  2375.23433322  1329.57746118  1214.95032353  1273.36796741\n",
            "  2340.96810361 31834.95098901 41558.37743416  3188.87028073\n",
            "  1556.6891092  37629.29408763 40980.94181296  1807.79047985\n",
            "  1785.6475102   1176.59552941  1198.34223087  1724.84793816\n",
            "  1237.97811549  3764.594667   29409.21494628  2947.16011663\n",
            "  2888.20365105  2478.71051609  3306.05622078  1274.6108466\n",
            "  3279.82461639  4247.66716182  3338.92879083  4095.7856902\n",
            "  3484.16591619  1608.87701992  3097.14118949 43073.00272233\n",
            " 25601.4753293  45985.80055427  3507.47637423  2309.00331857\n",
            " 53971.58417477  1595.57060491  1763.00746537  1881.49915269\n",
            "  3981.05002563  1984.18330386  1973.95176234  2572.29774529\n",
            "  3473.81765431 30748.63742199 55489.87606558  1366.90553753\n",
            " 40864.24437069  4907.4890031   3000.68998859  1374.25326493\n",
            "  2165.28010233  1365.37214441  3309.32145533  1702.39454722\n",
            "  2372.7419945   2008.03446416  1396.3532709   1858.82771153\n",
            "  1921.59084404  2175.47650728  2041.09843696  1187.36626634\n",
            "  2641.97473003  3608.24924408  2011.9304481   3705.79976144\n",
            " 33784.64116767  1863.50299181  1332.6012827   1789.1507282\n",
            "  2967.95801327  2476.78444638  4075.24907922  1519.30733875\n",
            " 37038.87207472  1688.03166234  4915.96838239  1034.4260049\n",
            " 56343.276894   26224.37989595  1960.45465961 40933.59800403\n",
            " 42961.50451785  3903.78379482  1348.25907405  6633.54530111\n",
            "  1045.42539483  1876.79786596  2413.22861983  2033.55940851\n",
            "  2121.43276022  2246.70739582  1714.08755423  1374.55390955\n",
            "  1210.15936626 42205.65445319 53331.20917097  2143.62912986\n",
            "  1565.79659708  1731.18477965 55170.37565575  1364.41465039\n",
            "  4581.79796404  2415.02932494  2005.13724699 49996.60174496\n",
            " 32190.41382077  2489.07045584  2086.5793213   1350.26334702\n",
            "  2778.13557248  1428.48255583  3094.76170328 27447.73354247\n",
            "  3208.00153395  2228.17816685  1579.72664945  5120.96246251\n",
            "  1234.24002014  1654.08627921  1429.14630274  1129.47481073\n",
            "  2093.55058039  1031.82233226 38203.17711287 55520.58793896\n",
            " 53222.77531407  2743.87264877 28888.37087127  3181.76385766\n",
            "  4794.7027126   4102.98074481  2002.54942766  1542.36017532\n",
            "  3057.20152551  1117.18352286  3462.6754411   2465.75578209\n",
            "  4655.65585271  2311.97185851  3739.58229128  1604.79885317\n",
            " 39308.85601999 32277.07233955  2023.07358962  1191.10406822\n",
            " 27920.25585291  2613.26238005  1518.65531586  1540.12115649\n",
            "  1659.0465154   2604.46926893  1507.08163406 17831.14228496\n",
            "  2556.41779911  1209.15504946  1472.418163   51357.18399125\n",
            "  2968.86728134  2029.97307468  7382.71264907  2800.4282394\n",
            "  1784.50486818  1013.8867518   1151.12838708  5114.89271068\n",
            "  2561.93880648  1628.05834983 37308.46520775  2429.10196017\n",
            " 53438.7786567  49438.71306871  1536.91908653  2365.39519591\n",
            "  2608.21357771 25870.54434083 12721.22388599  2022.30239987\n",
            "  3145.31407179 56622.28123445  2890.48003634  1787.37564538\n",
            "  1492.04325416  1824.54639575  2751.09119054  4529.91554324\n",
            "  1751.78982661  2156.60048536  2353.95777589  2220.33750779\n",
            " 23579.03973578  5197.57855547  1854.66670538  2811.83858082\n",
            "  3692.7617394   1519.10514772  1457.05921164  1675.5493673\n",
            "  3001.1795444   1180.22256434  6592.69300021  1993.99827031\n",
            "  1794.59545901 24478.94622449 17298.91202684  1725.2895947\n",
            "  2513.22234966  2823.69778561  2111.54059224  1435.13769418\n",
            " 23505.2064105   4173.62448046  3115.38189532 55480.1041839\n",
            "  2015.46134402  1779.36489919  1183.78601054  1258.07732732\n",
            " 39200.33406704  1248.86283257  2660.61296863  1305.38298341\n",
            "  2295.24508565  2198.32821484  2118.60778978  1512.67435813\n",
            "  1155.37751939  2028.71246124  1859.98256514 30368.21240027\n",
            " 36695.8768538   1611.07428569  2402.39137578 50388.64696677\n",
            "  6788.18146581 37518.2019412   3477.34171523 53210.33218105\n",
            "  2623.40432856 53367.75103004  2565.69332993  6959.87186222\n",
            " 27644.7893348   3261.73061038  1802.04420723  2615.4200708\n",
            "  2873.80831168  4512.28786548  2111.62567337  2490.7582336\n",
            "  1852.10037682  4649.94714767  2347.18999961  1558.38229955\n",
            "  3362.57754405  2732.42927141 34494.01313657  2095.70284069\n",
            "  2016.68959531 21267.45227613 17705.96200051  2375.44598186\n",
            "  5815.54636639  2820.26063927  1606.55852371  2492.71003955\n",
            " 56606.53826879  2442.62450244 40060.27678063  3470.86940131\n",
            " 28502.78006825  1157.04357914  2643.18244933  1049.78440378\n",
            "  1498.71263464  3656.32198682  2072.01756283  1648.09816144\n",
            "  1789.15105116  1885.04362809  2305.87204653 39255.68444033\n",
            "  2197.27997772 51610.44095126  1350.62338563 39509.92320412\n",
            "  2038.72730471 57249.75417793  1975.88869442  2260.10474582\n",
            "  2876.90219349  1354.76913346  2337.13908689  2120.83286154\n",
            "  2071.75715564  2768.29214711  2616.83568646 39282.66881072\n",
            "  1315.06260149 22210.31642801  2686.45995704  1333.75130545\n",
            "  1284.95077942  1816.49041707  1678.93249223  2820.14902447\n",
            "  1768.44458597  2267.60422135  2581.34095363  1740.60296464\n",
            "  1758.40403207  2465.4833583   2759.04827951  1998.72127166\n",
            "  1458.76445888  2444.72855141 50021.99256495  1884.14299841\n",
            "  2400.94449741  1510.3914041  25654.90431375 43010.92139151\n",
            "  2151.20757748  3632.63459684  2710.34788654  1659.32107031\n",
            "  2015.84102919  3333.43277889  1491.42942528  3130.41956177\n",
            "  2726.33494406  1222.68897258  2856.36247861 39014.21972806\n",
            "  3687.04881186  6548.57642186  1753.36202032  1603.3196362\n",
            " 40131.29630557 27512.71754337  4326.05927153  2923.2774153\n",
            "  2182.91268939  1957.32515059  2240.28469346  1918.70114935\n",
            "  1692.1000902   1409.85994199  2812.128767   31860.55192055\n",
            "  2090.11700096 26863.2191778   2585.144148   31291.41780265\n",
            "  1518.85332681 54148.09504384  2382.58741467  1986.13746001\n",
            "  1535.98620724  1158.04502092  2329.67102495  2612.00266278\n",
            "  3615.14284564  7442.74910473  2461.47315278  1836.95908654\n",
            "  1558.53518825  5458.09718464  2572.62652902  1122.90496388\n",
            "  1948.34964167  2473.854736    1694.19883075 15613.00984956\n",
            " 47956.92985636 55267.00888973  6918.23231614  4441.55474866\n",
            "  2662.95392479  5051.28316839 23499.18654137 54198.8549704\n",
            "  2089.08473437  2612.84279344  1988.7955138   2969.43395133\n",
            "  1534.30899607 39548.13191663  4217.88374887  4610.16926923\n",
            " 31834.95317409  2683.08790818  2248.20345247  4332.79340784\n",
            "  2430.92710694  3375.5431279   2500.74538799  1094.94389637\n",
            " 53210.32214772  2380.39506496  2360.5264497   1350.0071694\n",
            " 39757.95553709  4011.45843367 23481.1600468  17150.69460668\n",
            " 33915.89897878  1981.4262312   2644.23320846  1890.21781896\n",
            "  1410.61633681 37545.38280617  2179.33811352  1139.87881248\n",
            " 56453.01860115  2989.22056789  1784.38217346  2297.20947066\n",
            "  3465.05019506  1511.40581151  3463.94681955 31511.01227359\n",
            " 33784.73199888  5324.19442169  1970.21164664  2847.49031908\n",
            "  1519.59103237  2373.06973702  1156.42711582  1894.26863027\n",
            "  4866.53611633  1851.34318585  2590.71864913  1761.28487825\n",
            "  3083.45509901  5875.46769104 23251.84153033  2169.92868007\n",
            "  2001.81717226  2216.5372871  54485.20848316  1356.67601717\n",
            "  1667.89534689  2428.25483954 23314.82146916  1870.71973865\n",
            " 34881.60440759  2266.12351428  1557.72349987  1597.71697524\n",
            "  2108.99644173  1530.08762862  3121.23405692  2325.59073591\n",
            " 17482.90026034 50407.68146323 32726.26511347  2513.57330778\n",
            "  3166.17908906  2592.9582969   1223.47412045  1813.77045674\n",
            "  3492.98622972  3252.02551308  1695.22703097  1167.816456\n",
            "  2813.53531494  2198.21653476  4409.920266    1189.29303505\n",
            "  2292.72744112  1159.93826012 18405.04558361  4492.21885501\n",
            "  2752.38237232  1134.56806295 13775.1392878  49698.70875041\n",
            "  2172.93792872  1130.97938449  1718.90652777  2126.78578416\n",
            "  1387.35818397  1818.24287552  1974.01725474  2613.55591801\n",
            "  1340.37570398  3395.06672246  1885.29742075  1000.53367164\n",
            "  2195.17803455  3455.50587875  1760.04950658 25491.71328726\n",
            "  1792.38950657 31480.39163847 14317.31958856  1851.92708564\n",
            " 10471.60241139  1576.78561804  2113.99526929  2117.93110719\n",
            "  1865.21102843  2123.56396842  1350.70737597  2433.93615118\n",
            "  2479.6534133   2018.49611082  1407.19864729  1019.05190666\n",
            " 55781.83288849  1722.94930999  2574.86963305 27261.63835588\n",
            "  3995.29121158 44001.44313637  6761.87662653  9531.71202162\n",
            "  2677.83808973  2775.92961978  2273.5328872  53428.67744886\n",
            " 18954.37754946  1178.93687537  3090.19153988  2029.36542699\n",
            "  1544.40632275 54464.57529198  2308.0531786   1721.53346858\n",
            "  1700.02968458 33147.54626809  2099.82368209  5655.13039274\n",
            "  2997.61920298  3354.36528624  4987.03495588  2820.01338342\n",
            "  3402.89308611  2583.13160982  1967.40465027  3644.00515989\n",
            " 28027.2480795   2917.09480283 14262.50718037  2154.9471336\n",
            "  2394.46162669  2299.89549003  1701.60070418  1777.94862073\n",
            "  3216.92681355  2077.44801204 50645.3280321   2156.25603274\n",
            "  1521.98082081  4576.87292921 20071.37895371  2153.27322161\n",
            "  1902.14871316 10958.05103211 24465.98154801  4116.49536013\n",
            "  5021.38372736 44979.13646531 53427.69786078  4723.79304243\n",
            "  2034.25243004  2666.26179861  1704.45949086  1442.70608091\n",
            "  2117.8508146  42029.67929829 39632.65728875  3529.89060045\n",
            "  1209.55226864 43799.58048634  3513.16621575  2122.60957827\n",
            " 32093.72310169 48480.86577983  2559.99659117  1678.92278268\n",
            "  3516.47793519  2073.27851999  1617.00185036 55379.0113001\n",
            "  1811.47417223  4050.97370144  1130.23071183  2972.25321761\n",
            "  1825.12928883  2339.29113271  1680.61491997  1480.73841655\n",
            "  1143.19159953  1221.3282573   1334.07278059  3929.14921539\n",
            "  1666.44137387  2395.6497378   1359.80988763  1372.01441359\n",
            "  1496.42682043]\n"
          ]
        }
      ]
    },
    {
      "cell_type": "markdown",
      "source": [
        "## Evaluating the model"
      ],
      "metadata": {
        "id": "bVw__S55UseL"
      }
    },
    {
      "cell_type": "code",
      "source": [
        "from sklearn.metrics import mean_squared_error, mean_absolute_error, r2_score\n",
        "\n",
        "print(\"MSE: {}\".format(mean_squared_error(y_test, y_pred)))\n",
        "print(\"MAE: {}\".format(mean_absolute_error(y_test, y_pred)))\n",
        "print(\"R Squared: {}\".format(r2_score(y_test, y_pred)))"
      ],
      "metadata": {
        "colab": {
          "base_uri": "https://localhost:8080/"
        },
        "id": "RKy3O_AhQ4zi",
        "outputId": "0c2ef0ba-5ad6-415f-f79f-4c3f3fcba5c7"
      },
      "execution_count": 19,
      "outputs": [
        {
          "output_type": "stream",
          "name": "stdout",
          "text": [
            "MSE: 55039.93333876109\n",
            "MAE: 106.87037913288897\n",
            "R Squared: 0.9997448034401161\n"
          ]
        }
      ]
    },
    {
      "cell_type": "markdown",
      "source": [
        "## Visualising"
      ],
      "metadata": {
        "id": "rG0EvBmeUxnv"
      }
    }
  ]
}